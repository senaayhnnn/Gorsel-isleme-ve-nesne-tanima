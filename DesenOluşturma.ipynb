{
 "cells": [
  {
   "cell_type": "code",
   "execution_count": 2,
   "id": "0bcf5e67-45a7-47a5-84cd-73428db3aa25",
   "metadata": {},
   "outputs": [
    {
     "name": "stdout",
     "output_type": "stream",
     "text": [
      "+ + + + \n",
      "+ + + + \n",
      "+ + + + \n"
     ]
    }
   ],
   "source": [
    "satir, sutun = 3, 4\n",
    "\n",
    "for i in range(satir):         \n",
    "    for j in range(sutun):     \n",
    "        print(\"+\", end=\" \")   \n",
    "    print()                   \n"
   ]
  },
  {
   "cell_type": "code",
   "execution_count": 15,
   "id": "45a75a7d-017d-4e03-898d-1b5bacefc45e",
   "metadata": {},
   "outputs": [
    {
     "name": "stdout",
     "output_type": "stream",
     "text": [
      ".   .   .   .   .   .   .   .   \n",
      "  .   .   .   .   .   .   .   . \n",
      ".   .   .   .   .   .   .   .   \n",
      "  .   .   .   .   .   .   .   . \n",
      ".   .   .   .   .   .   .   .   \n",
      "  .   .   .   .   .   .   .   . \n",
      ".   .   .   .   .   .   .   .   \n",
      "  .   .   .   .   .   .   .   . \n",
      ".   .   .   .   .   .   .   .   \n",
      "  .   .   .   .   .   .   .   . \n",
      ".   .   .   .   .   .   .   .   \n",
      "  .   .   .   .   .   .   .   . \n",
      ".   .   .   .   .   .   .   .   \n",
      "  .   .   .   .   .   .   .   . \n"
     ]
    }
   ],
   "source": [
    "for i in range(14):\n",
    "    for j in range(16):\n",
    "        if (i + j) % 2 == 0:\n",
    "            print(\".\", end=\" \")\n",
    "        else:\n",
    "            print(\" \", end=\" \")\n",
    "    print()"
   ]
  },
  {
   "cell_type": "code",
   "execution_count": 21,
   "id": "4477837c-8574-4a51-ba5e-6a9e49a8fe9e",
   "metadata": {},
   "outputs": [
    {
     "name": "stdout",
     "output_type": "stream",
     "text": [
      "■ | ■ | ■ | ■ | \n",
      "| ■ | ■ | ■ | ■ \n",
      "■ | ■ | ■ | ■ | \n",
      "| ■ | ■ | ■ | ■ \n",
      "■ | ■ | ■ | ■ | \n",
      "| ■ | ■ | ■ | ■ \n",
      "■ | ■ | ■ | ■ | \n",
      "| ■ | ■ | ■ | ■ \n"
     ]
    }
   ],
   "source": [
    "for i in range(8):\n",
    "    for j in range(8):\n",
    "        if (i + j) % 2 == 0:\n",
    "            print(\"■\", end=\" \")\n",
    "        else:\n",
    "            print(\"|\", end=\" \")\n",
    "    print()"
   ]
  },
  {
   "cell_type": "code",
   "execution_count": null,
   "id": "5f544418-60b5-43a6-b397-753755657fec",
   "metadata": {},
   "outputs": [],
   "source": []
  }
 ],
 "metadata": {
  "kernelspec": {
   "display_name": "Python 3 (ipykernel)",
   "language": "python",
   "name": "python3"
  },
  "language_info": {
   "codemirror_mode": {
    "name": "ipython",
    "version": 3
   },
   "file_extension": ".py",
   "mimetype": "text/x-python",
   "name": "python",
   "nbconvert_exporter": "python",
   "pygments_lexer": "ipython3",
   "version": "3.12.9"
  }
 },
 "nbformat": 4,
 "nbformat_minor": 5
}
