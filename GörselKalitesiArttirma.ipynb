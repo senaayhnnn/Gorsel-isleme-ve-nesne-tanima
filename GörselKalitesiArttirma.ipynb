{
 "cells": [
  {
   "cell_type": "code",
   "execution_count": 45,
   "id": "baad2f5d-2a6c-4b89-a040-987bccccc22e",
   "metadata": {},
   "outputs": [],
   "source": [
    "import cv2"
   ]
  },
  {
   "cell_type": "code",
   "execution_count": 39,
   "id": "5120c4dd-2064-42ae-b8af-6f9b8601adf1",
   "metadata": {},
   "outputs": [],
   "source": [
    "img = cv2.imread('image.jpg')"
   ]
  },
  {
   "cell_type": "code",
   "execution_count": 40,
   "id": "02628ca4-475b-4479-9c42-a2bb4e3475d6",
   "metadata": {},
   "outputs": [],
   "source": [
    "denoised = cv2.fastNlMeansDenoisingColored(img, None, h=20, hColor=10, templateWindowSize=7, searchWindowSize=21)\n"
   ]
  },
  {
   "cell_type": "code",
   "execution_count": 41,
   "id": "c59adc2f-48cb-4799-b3c0-bd28789137d5",
   "metadata": {},
   "outputs": [],
   "source": [
    "kernel = np.array([[0, -1, 0],\n",
    "                   [-1, 5, -1],\n",
    "                   [0, -1, 0]])\n",
    "\n",
    "sharpened = cv2.filter2D(denoised, -1, kernel)\n",
    "\n"
   ]
  },
  {
   "cell_type": "code",
   "execution_count": 47,
   "id": "7bad032e-9d0c-43c8-8a2f-ad1d301f1784",
   "metadata": {},
   "outputs": [],
   "source": [
    "cv2.imshow('İyileştirilmiş Görüntü', sharpened)\n",
    "cv2.waitKey(0)\n",
    "cv2.destroyAllWindows()"
   ]
  },
  {
   "cell_type": "code",
   "execution_count": null,
   "id": "2c983d00-6c00-4394-8c35-f0534336c479",
   "metadata": {},
   "outputs": [],
   "source": []
  },
  {
   "cell_type": "code",
   "execution_count": null,
   "id": "9486b6ff-8a48-455e-96e6-f868ad625639",
   "metadata": {},
   "outputs": [],
   "source": []
  },
  {
   "cell_type": "code",
   "execution_count": null,
   "id": "389be461-59bf-418c-8f6f-5802e56f718a",
   "metadata": {},
   "outputs": [],
   "source": []
  }
 ],
 "metadata": {
  "kernelspec": {
   "display_name": "Python 3 (ipykernel)",
   "language": "python",
   "name": "python3"
  },
  "language_info": {
   "codemirror_mode": {
    "name": "ipython",
    "version": 3
   },
   "file_extension": ".py",
   "mimetype": "text/x-python",
   "name": "python",
   "nbconvert_exporter": "python",
   "pygments_lexer": "ipython3",
   "version": "3.12.9"
  }
 },
 "nbformat": 4,
 "nbformat_minor": 5
}
