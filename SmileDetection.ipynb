{
 "cells": [
  {
   "cell_type": "code",
   "execution_count": null,
   "id": "f809f7df-0ce8-4f20-ba32-8b46699629c0",
   "metadata": {},
   "outputs": [],
   "source": [
    "import cv2\n",
    "\n",
    "face_cascade = cv2.CascadeClassifier(cv2.data.haarcascades + 'haarcascade_frontalface_default.xml')\n",
    "smile_cascade = cv2.CascadeClassifier(cv2.data.haarcascades + 'haarcascade_smile.xml')\n",
    "\n",
    "kamera = cv2.VideoCapture(0)\n",
    "\n",
    "while True:\n",
    "    ret, frame = kamera.read()\n",
    "    if not ret:\n",
    "        break\n",
    "\n",
    "    gri = cv2.cvtColor(frame, cv2.COLOR_BGR2GRAY)\n",
    "    yuzler = face_cascade.detectMultiScale(gri, scaleFactor=1.3, minNeighbors=5)\n",
    "\n",
    "    for (x, y, w, h) in yuzler:\n",
    "        cv2.rectangle(frame, (x, y), (x + w, y + h), (255, 0, 0), 2)\n",
    "\n",
    "        \n",
    "        roi_gray = gri[y + h//2:y + h, x:x + w]\n",
    "        roi_color = frame[y + h//2:y + h, x:x + w]\n",
    "\n",
    "        gulumsemeler = smile_cascade.detectMultiScale(\n",
    "            roi_gray,\n",
    "            scaleFactor=1.5,\n",
    "            minNeighbors=15,\n",
    "            minSize=(25, 25)\n",
    "        )\n",
    "\n",
    "        for (sx, sy, sw, sh) in gulumsemeler:\n",
    "            cv2.rectangle(roi_color, (sx, sy), (sx + sw, sy + sh), (0, 255, 0), 2)\n",
    "            cv2.putText(frame, \"Gulumseme Algilandi!\", (x, y - 10),\n",
    "                        cv2.FONT_HERSHEY_SIMPLEX, 0.9, (0, 255, 0), 2)\n",
    "            break\n",
    "\n",
    "    cv2.imshow(\"Gulumseme Tanima\", frame)\n",
    "\n",
    "    if cv2.waitKey(1) & 0xFF == ord('q'):\n",
    "        break\n",
    "\n",
    "kamera.release()\n",
    "cv2.destroyAllWindows()"
   ]
  },
  {
   "cell_type": "code",
   "execution_count": null,
   "id": "a2a090f4-fbbd-4f03-b403-2fefe0281742",
   "metadata": {},
   "outputs": [],
   "source": []
  },
  {
   "cell_type": "code",
   "execution_count": null,
   "id": "a20a9865-311b-4f25-b381-1bd9f5ebd0fc",
   "metadata": {},
   "outputs": [],
   "source": []
  },
  {
   "cell_type": "code",
   "execution_count": null,
   "id": "fe1c766e-59d4-4be7-8023-a6cb945cbf7f",
   "metadata": {},
   "outputs": [],
   "source": []
  },
  {
   "cell_type": "code",
   "execution_count": 5,
   "id": "4c0682b6-0e9c-492b-b39b-e5c6033d36ea",
   "metadata": {},
   "outputs": [
    {
     "ename": "NameError",
     "evalue": "name 'detect' is not defined",
     "output_type": "error",
     "traceback": [
      "\u001b[31m---------------------------------------------------------------------------\u001b[39m",
      "\u001b[31mNameError\u001b[39m                                 Traceback (most recent call last)",
      "\u001b[36mCell\u001b[39m\u001b[36m \u001b[39m\u001b[32mIn[5]\u001b[39m\u001b[32m, line 10\u001b[39m\n\u001b[32m      7\u001b[39m gray = cv2.cvtColor(frame, cv2.COLOR_BGR2GRAY)  \n\u001b[32m      9\u001b[39m \u001b[38;5;66;03m# calls the detect() function    \u001b[39;00m\n\u001b[32m---> \u001b[39m\u001b[32m10\u001b[39m canvas = detect(gray, frame)   \n\u001b[32m     12\u001b[39m \u001b[38;5;66;03m# Displays the result on camera feed                     \u001b[39;00m\n\u001b[32m     13\u001b[39m cv2.imshow(\u001b[33m'\u001b[39m\u001b[33mVideo\u001b[39m\u001b[33m'\u001b[39m, canvas) \n",
      "\u001b[31mNameError\u001b[39m: name 'detect' is not defined"
     ]
    }
   ],
   "source": []
  },
  {
   "cell_type": "code",
   "execution_count": null,
   "id": "bf201544-1c95-440e-96b5-d53928c1697d",
   "metadata": {},
   "outputs": [],
   "source": []
  }
 ],
 "metadata": {
  "kernelspec": {
   "display_name": "Python 3 (ipykernel)",
   "language": "python",
   "name": "python3"
  },
  "language_info": {
   "codemirror_mode": {
    "name": "ipython",
    "version": 3
   },
   "file_extension": ".py",
   "mimetype": "text/x-python",
   "name": "python",
   "nbconvert_exporter": "python",
   "pygments_lexer": "ipython3",
   "version": "3.12.9"
  }
 },
 "nbformat": 4,
 "nbformat_minor": 5
}
