{
 "cells": [
  {
   "cell_type": "code",
   "execution_count": 1,
   "id": "066ecdb7-1f25-4834-ac69-152a3f4dbdfd",
   "metadata": {},
   "outputs": [],
   "source": [
    "import cv2\n"
   ]
  },
  {
   "cell_type": "code",
   "execution_count": 5,
   "id": "abcdbb7a-e3c3-435a-918f-62c29f8583fa",
   "metadata": {},
   "outputs": [],
   "source": [
    "\n",
    "eye_cascade = cv2.CascadeClassifier(cv2.data.haarcascades + 'haarcascade_eye.xml')\n"
   ]
  },
  {
   "cell_type": "code",
   "execution_count": null,
   "id": "b44cb756-d995-41a0-95fa-4da2df6f4e30",
   "metadata": {},
   "outputs": [],
   "source": [
    "\n",
    "kamera = cv2.VideoCapture(0)\n",
    "\n",
    "while True:\n",
    "    \n",
    "    ret, frame = kamera.read()\n",
    "    if not ret:\n",
    "        break\n",
    "\n",
    "    \n",
    "    gri = cv2.cvtColor(frame, cv2.COLOR_BGR2GRAY)\n",
    "\n",
    "    \n",
    "    gozler = eye_cascade.detectMultiScale(gri, scaleFactor=1.1, minNeighbors=5)\n",
    "\n",
    "   \n",
    "    for (x, y, w, h) in gozler:\n",
    "        cv2.rectangle(frame, (x, y), (x+w, y+h), (0, 255, 0), 2) \n",
    "        cv2.putText(frame, 'Goz Bulundu', (x, y-10), cv2.FONT_HERSHEY_SIMPLEX, \n",
    "                    0.7, (0, 255, 0), 2) \n",
    "\n",
    "   \n",
    "    cv2.imshow('Goz Algilama', frame)\n",
    "\n",
    "    \n",
    "    if cv2.waitKey(1) & 0xFF == ord('q'):\n",
    "        break\n",
    "\n",
    "\n",
    "kamera.release()\n",
    "cv2.destroyAllWindows()\n"
   ]
  },
  {
   "cell_type": "code",
   "execution_count": null,
   "id": "58081f5b-e46b-4a25-8b5d-2bb4e15f8f1a",
   "metadata": {},
   "outputs": [],
   "source": []
  },
  {
   "cell_type": "code",
   "execution_count": null,
   "id": "a30272b9-1be6-48ca-8169-5303f5e4bdac",
   "metadata": {},
   "outputs": [],
   "source": []
  },
  {
   "cell_type": "code",
   "execution_count": null,
   "id": "f3329789-49e7-43d0-9430-2c70859209b5",
   "metadata": {},
   "outputs": [],
   "source": []
  }
 ],
 "metadata": {
  "kernelspec": {
   "display_name": "Python 3 (ipykernel)",
   "language": "python",
   "name": "python3"
  },
  "language_info": {
   "codemirror_mode": {
    "name": "ipython",
    "version": 3
   },
   "file_extension": ".py",
   "mimetype": "text/x-python",
   "name": "python",
   "nbconvert_exporter": "python",
   "pygments_lexer": "ipython3",
   "version": "3.12.9"
  }
 },
 "nbformat": 4,
 "nbformat_minor": 5
}
